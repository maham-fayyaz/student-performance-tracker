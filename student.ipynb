{
  "nbformat": 4,
  "nbformat_minor": 0,
  "metadata": {
    "colab": {
      "provenance": [],
      "authorship_tag": "ABX9TyP75REz5ICVgsbA2S0d0MYC",
      "include_colab_link": true
    },
    "kernelspec": {
      "name": "python3",
      "display_name": "Python 3"
    },
    "language_info": {
      "name": "python"
    }
  },
  "cells": [
    {
      "cell_type": "markdown",
      "metadata": {
        "id": "view-in-github",
        "colab_type": "text"
      },
      "source": [
        "<a href=\"https://colab.research.google.com/github/maham-fayyaz/student-performance-tracker/blob/main/student.ipynb\" target=\"_parent\"><img src=\"https://colab.research.google.com/assets/colab-badge.svg\" alt=\"Open In Colab\"/></a>"
      ]
    },
    {
      "cell_type": "code",
      "execution_count": 2,
      "metadata": {
        "colab": {
          "base_uri": "https://localhost:8080/"
        },
        "id": "mx7UYbOIHctE",
        "outputId": "a1934cba-adff-487b-93c4-8e89f9d95299"
      },
      "outputs": [
        {
          "output_type": "stream",
          "name": "stdout",
          "text": [
            "Welcome to the Student Performance Tracker!\n",
            "Enter the student's name: maham\n",
            "Enter Math score for maham: 65\n",
            "Enter Science score for maham: 98\n",
            "Enter English score for maham: 70\n",
            "Would you like to add another student? (y/n): y\n",
            "Enter the student's name: ali\n",
            "Enter Math score for ali: 98\n",
            "Enter Science score for ali: 87\n",
            "Enter English score for ali: 67\n",
            "Would you like to add another student? (y/n): n\n",
            "\n",
            "Student Performance Report:\n",
            "Student: maham, Average Score: 77.67, Status: Passing\n",
            "Student: ali, Average Score: 84.00, Status: Passing\n",
            "\n",
            "Class Average Score: 80.83\n"
          ]
        }
      ],
      "source": [
        "class Student:\n",
        "    def __init__(self, name, scores):\n",
        "        self.name = name\n",
        "        self.scores = scores\n",
        "\n",
        "    def calculate_average(self):\n",
        "        \"\"\"Calculate the average score of the student.\"\"\"\n",
        "        return sum(self.scores) / len(self.scores)\n",
        "\n",
        "    def is_passing(self, passing_score=40):\n",
        "        \"\"\"Check if the student is passing all subjects.\"\"\"\n",
        "        return all(score >= passing_score for score in self.scores)\n",
        "\n",
        "\n",
        "class PerformanceTracker:\n",
        "    def __init__(self):\n",
        "        self.students = {}\n",
        "\n",
        "    def add_student(self, name, scores):\n",
        "        \"\"\"Add a student and their scores to the system.\"\"\"\n",
        "        self.students[name] = Student(name, scores)\n",
        "\n",
        "    def calculate_class_average(self):\n",
        "        \"\"\"Calculate the overall average score for the class.\"\"\"\n",
        "        if not self.students:\n",
        "            return 0\n",
        "        total = sum(student.calculate_average() for student in self.students.values())\n",
        "        return total / len(self.students)\n",
        "\n",
        "    def display_student_performance(self):\n",
        "        \"\"\"Display each student's name, average score, and pass/fail status.\"\"\"\n",
        "        print(\"\\nStudent Performance Report:\")\n",
        "        for student in self.students.values():\n",
        "            avg_score = student.calculate_average()\n",
        "            pass_fail = \"Passing\" if student.is_passing() else \"Failing\"\n",
        "            print(f\"Student: {student.name}, Average Score: {avg_score:.2f}, Status: {pass_fail}\")\n",
        "        print()\n",
        "\n",
        "\n",
        "def get_student_input():\n",
        "    \"\"\"Prompt the user to input a student's name and their scores.\"\"\"\n",
        "    name = input(\"Enter the student's name: \").strip()\n",
        "    while True:\n",
        "        try:\n",
        "            scores = []\n",
        "            for subject in ['Math', 'Science', 'English']:\n",
        "                score = int(input(f\"Enter {subject} score for {name}: \"))\n",
        "                scores.append(score)\n",
        "            return name, scores\n",
        "        except ValueError:\n",
        "            print(\"Invalid input! Please enter numeric values for the scores.\")\n",
        "\n",
        "\n",
        "def main():\n",
        "    \"\"\"Main function to run the Student Performance Tracker.\"\"\"\n",
        "    tracker = PerformanceTracker()\n",
        "    print(\"Welcome to the Student Performance Tracker!\")\n",
        "\n",
        "    while True:\n",
        "        name, scores = get_student_input()\n",
        "        tracker.add_student(name, scores)\n",
        "        more_students = input(\"Would you like to add another student? (y/n): \").strip().lower()\n",
        "        if more_students != 'y':\n",
        "            break\n",
        "\n",
        "    # Display the performance of all students\n",
        "    tracker.display_student_performance()\n",
        "\n",
        "    # Calculate and display the class average\n",
        "    class_avg = tracker.calculate_class_average()\n",
        "    print(f\"Class Average Score: {class_avg:.2f}\")\n",
        "\n",
        "\n",
        "if __name__ == \"__main__\":\n",
        "    main()\n"
      ]
    }
  ]
}